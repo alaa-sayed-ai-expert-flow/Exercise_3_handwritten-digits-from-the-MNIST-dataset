{
 "cells": [
  {
   "cell_type": "markdown",
   "id": "e191c453-ece9-4ff7-8f0e-b873fade8877",
   "metadata": {},
   "source": [
    "# Importing Packages"
   ]
  },
  {
   "cell_type": "code",
   "execution_count": 1,
   "id": "f8cdf579-b22c-4d13-8204-a3dbc69bb5f9",
   "metadata": {
    "id": "f8cdf579-b22c-4d13-8204-a3dbc69bb5f9"
   },
   "outputs": [],
   "source": [
    "# save the final model to file\n",
    "from tensorflow.keras.datasets import mnist\n",
    "from tensorflow.keras.utils import to_categorical\n",
    "from tensorflow.keras.models import Sequential\n",
    "from tensorflow.keras.layers import Conv2D\n",
    "from tensorflow.keras.layers import MaxPooling2D\n",
    "from tensorflow.keras.layers import Dense\n",
    "from tensorflow.keras.layers import Flatten\n",
    "from tensorflow.keras.optimizers import SGD"
   ]
  },
  {
   "cell_type": "markdown",
   "id": "bfa880e6-6fb1-470f-8d59-2d1ebb429142",
   "metadata": {},
   "source": [
    "# Loading Dataset mnist-handwritten-digit-classification"
   ]
  },
  {
   "cell_type": "code",
   "execution_count": 2,
   "id": "96cee280-5148-4d0b-a8f6-3f15d5175ac2",
   "metadata": {
    "id": "96cee280-5148-4d0b-a8f6-3f15d5175ac2"
   },
   "outputs": [],
   "source": [
    "# load train and test dataset\n",
    "def load_dataset():\n",
    "     # load dataset\n",
    "     (trainX, trainY), (testX, testY) = mnist.load_data()\n",
    "     # reshape dataset to have a single channel\n",
    "     trainX = trainX.reshape((trainX.shape[0], 28, 28, 1))\n",
    "     testX = testX.reshape((testX.shape[0], 28, 28, 1))\n",
    "     # one hot encode target values\n",
    "     trainY = to_categorical(trainY)\n",
    "     testY = to_categorical(testY)\n",
    "     return trainX, trainY, testX, testY"
   ]
  },
  {
   "cell_type": "markdown",
   "id": "b5e879a7-b319-4939-8af2-9aec07a47a59",
   "metadata": {},
   "source": [
    "# Prepare Training and Testing Datasets (Normalization Step)"
   ]
  },
  {
   "cell_type": "code",
   "execution_count": 3,
   "id": "f0c9cf43-58bf-4eea-97fd-cbc6bbe841f6",
   "metadata": {
    "id": "f0c9cf43-58bf-4eea-97fd-cbc6bbe841f6"
   },
   "outputs": [],
   "source": [
    "# scale pixels\n",
    "def prep_pixels(train, test):\n",
    "     # convert from integers to floats\n",
    "     train_norm = train.astype('float32')\n",
    "     test_norm = test.astype('float32')\n",
    "     # normalize to range 0-1\n",
    "     train_norm = train_norm / 255.0\n",
    "     test_norm = test_norm / 255.0\n",
    "     # return normalized images\n",
    "     return train_norm, test_norm"
   ]
  },
  {
   "cell_type": "markdown",
   "id": "e44108f6-e9c2-4b1a-8190-e1dda4fc2d7c",
   "metadata": {},
   "source": [
    "# Create Neural Networks and activation Functions\n",
    "- The rectified linear activation function or ReLU for short is a piecewise linear function that will output the input directly if it is positive, otherwise, it will output zero. (input > 0).\n",
    "- The rectified linear activation function overcomes the vanishing gradient problem, allowing models to learn faster and perform better.\n",
    "- All layers will use the ReLU activation function .\n",
    "- 32 OR 64 = Number of Filters & (3 , 3) = single filter size ---> That for Single Convolutional Layer.\n",
    "- Pooling is required to down sample the detection of features in feature maps.\n",
    "- It is Similar to Gradient Descent Algorithm .\n",
    "- So We need a Gradient Descent Optimizer with a learning rate (Alfa param) of 0.01 and a momentum of 0.9.\n",
    "- We will use \"Categorical cross-entropy\" loss function for multi-class classification.\n",
    "- Monitor the classification accuracy metric.\n"
   ]
  },
  {
   "cell_type": "code",
   "execution_count": 4,
   "id": "7665995a-ea0b-4365-bda8-95e829964cf8",
   "metadata": {
    "id": "7665995a-ea0b-4365-bda8-95e829964cf8"
   },
   "outputs": [],
   "source": [
    "# define cnn model\n",
    "def define_model():\n",
    "     model = Sequential()\n",
    "     model.add(Conv2D(32, (3, 3), activation='relu', kernel_initializer='he_uniform', input_shape=(28, 28, 1))) # We will use he_uniform not he_normal in Classification \n",
    "     model.add(MaxPooling2D((2, 2)))\n",
    "     model.add(Conv2D(64, (3, 3), activation='relu', kernel_initializer='he_uniform'))\n",
    "     model.add(Conv2D(64, (3, 3), activation='relu', kernel_initializer='he_uniform'))\n",
    "     model.add(MaxPooling2D((2, 2)))\n",
    "     model.add(Flatten())\n",
    "     model.add(Dense(100, activation='relu', kernel_initializer='he_uniform'))\n",
    "     model.add(Dense(10, activation='softmax'))\n",
    "     # compile model\n",
    "     opt = SGD(learning_rate=0.01, momentum=0.9)\n",
    "     model.compile(optimizer=opt, loss='categorical_crossentropy', metrics=['accuracy'])\n",
    "     return model"
   ]
  },
  {
   "cell_type": "code",
   "execution_count": 5,
   "id": "d5ee0425-f16b-4cb7-8a61-eb3b417cbc57",
   "metadata": {
    "id": "d5ee0425-f16b-4cb7-8a61-eb3b417cbc57"
   },
   "outputs": [],
   "source": [
    "# run for Genenrating and Saving The model\n",
    "def generate_model():\n",
    "     # load dataset\n",
    "     trainX, trainY, testX, testY = load_dataset()\n",
    "     # prepare pixel data\n",
    "     trainX, testX = prep_pixels(trainX, testX)\n",
    "     # define model\n",
    "     model = define_model()\n",
    "     # fit model\n",
    "     model.fit(trainX, trainY, epochs=10, batch_size=32, verbose=0)\n",
    "     # save model\n",
    "     model.save('final_model.h5')"
   ]
  },
  {
   "cell_type": "code",
   "execution_count": 6,
   "id": "c7edae85-af66-46b9-858f-3657d17a4c74",
   "metadata": {
    "colab": {
     "base_uri": "https://localhost:8080/"
    },
    "id": "c7edae85-af66-46b9-858f-3657d17a4c74",
    "outputId": "42342fa6-069e-4656-9da8-97a3566eb8b1"
   },
   "outputs": [
    {
     "name": "stdout",
     "output_type": "stream",
     "text": [
      "Downloading data from https://storage.googleapis.com/tensorflow/tf-keras-datasets/mnist.npz\n",
      "11490434/11490434 [==============================] - 0s 0us/step\n"
     ]
    },
    {
     "name": "stderr",
     "output_type": "stream",
     "text": [
      "/usr/local/lib/python3.10/dist-packages/keras/src/engine/training.py:3103: UserWarning: You are saving your model as an HDF5 file via `model.save()`. This file format is considered legacy. We recommend using instead the native Keras format, e.g. `model.save('my_model.keras')`.\n",
      "  saving_api.save_model(\n"
     ]
    }
   ],
   "source": [
    "# entry point, run the test harness\n",
    "generate_model()"
   ]
  }
 ],
 "metadata": {
  "accelerator": "GPU",
  "colab": {
   "gpuType": "T4",
   "provenance": []
  },
  "kernelspec": {
   "display_name": "Python 3 (ipykernel)",
   "language": "python",
   "name": "python3"
  },
  "language_info": {
   "codemirror_mode": {
    "name": "ipython",
    "version": 3
   },
   "file_extension": ".py",
   "mimetype": "text/x-python",
   "name": "python",
   "nbconvert_exporter": "python",
   "pygments_lexer": "ipython3",
   "version": "3.10.14"
  }
 },
 "nbformat": 4,
 "nbformat_minor": 5
}
